{
 "cells": [
  {
   "cell_type": "code",
   "execution_count": 11,
   "id": "7e3f2645",
   "metadata": {},
   "outputs": [],
   "source": [
    "import pandas as pd"
   ]
  },
  {
   "cell_type": "code",
   "execution_count": 4,
   "id": "ed4d64cc",
   "metadata": {},
   "outputs": [
    {
     "name": "stdout",
     "output_type": "stream",
     "text": [
      "*******************\n",
      "0      24600\n",
      "1      28050\n",
      "2      34750\n",
      "3      39850\n",
      "4      49750\n",
      "5      60950\n",
      "6     106850\n",
      "7     114450\n",
      "8     118800\n",
      "9     124200\n",
      "10    130150\n",
      "11    136650\n",
      "12    137850\n",
      "13    145550\n",
      "14    149950\n",
      "15    156250\n",
      "16    167450\n",
      "17    172000\n",
      "18    184700\n",
      "19    195580\n",
      "20    212480\n",
      "21    249130\n",
      "22    253530\n",
      "23    262480\n",
      "24    266080\n",
      "dtype: int64\n"
     ]
    }
   ],
   "source": [
    "\n",
    "precios  = [24600, 3450, 6700, 5100, 9900, 11200, 45900, 7600, 4350, 5400, 5950, 6500, 1200, 7700, 4400, 6300, 11200, 4550, 12700, 10880, 16900, 36650, 4400, 8950, 3600]\n",
    "\n",
    "serie = pd.Series(precios)\n",
    "print(\"*******************\")\n",
    "cumsum = serie.cumsum()\n"
   ]
  },
  {
   "cell_type": "code",
   "execution_count": 18,
   "id": "f6f3d0b0",
   "metadata": {},
   "outputs": [],
   "source": [
    "def get_cumsum(lista):\n",
    "    serie = pd.Series(lista)\n",
    "    cumsum = serie.cumsum()\n",
    "    print(cumsum)"
   ]
  },
  {
   "cell_type": "code",
   "execution_count": 22,
   "id": "19feacb6",
   "metadata": {},
   "outputs": [],
   "source": [
    "seis = [28950, 4250, 7250, 7800, 12350, 14250, 39900, 7500, 4850, 6100, 5950, 6550, 6300, 1850, 10400, 5750, 3900, 12150, 11400, 13750, 17950, 45350, 4800, 11700, 6950]\n"
   ]
  },
  {
   "cell_type": "code",
   "execution_count": 23,
   "id": "1d1bbbbf",
   "metadata": {},
   "outputs": [
    {
     "name": "stdout",
     "output_type": "stream",
     "text": [
      "0      28950\n",
      "1      33200\n",
      "2      40450\n",
      "3      48250\n",
      "4      60600\n",
      "5      74850\n",
      "6     114750\n",
      "7     122250\n",
      "8     127100\n",
      "9     133200\n",
      "10    139150\n",
      "11    145700\n",
      "12    152000\n",
      "13    153850\n",
      "14    164250\n",
      "15    170000\n",
      "16    173900\n",
      "17    186050\n",
      "18    197450\n",
      "19    211200\n",
      "20    229150\n",
      "21    274500\n",
      "22    279300\n",
      "23    291000\n",
      "24    297950\n",
      "dtype: int64\n"
     ]
    }
   ],
   "source": [
    "get_cumsum(seis)"
   ]
  },
  {
   "cell_type": "code",
   "execution_count": 21,
   "id": "1155b09f",
   "metadata": {},
   "outputs": [
    {
     "name": "stdout",
     "output_type": "stream",
     "text": [
      "25\n"
     ]
    }
   ],
   "source": [
    "print(len(stock))"
   ]
  },
  {
   "cell_type": "code",
   "execution_count": null,
   "id": "b4ab76d2",
   "metadata": {},
   "outputs": [],
   "source": []
  }
 ],
 "metadata": {
  "kernelspec": {
   "display_name": "Python 3 (ipykernel)",
   "language": "python",
   "name": "python3"
  },
  "language_info": {
   "codemirror_mode": {
    "name": "ipython",
    "version": 3
   },
   "file_extension": ".py",
   "mimetype": "text/x-python",
   "name": "python",
   "nbconvert_exporter": "python",
   "pygments_lexer": "ipython3",
   "version": "3.9.7"
  }
 },
 "nbformat": 4,
 "nbformat_minor": 5
}
